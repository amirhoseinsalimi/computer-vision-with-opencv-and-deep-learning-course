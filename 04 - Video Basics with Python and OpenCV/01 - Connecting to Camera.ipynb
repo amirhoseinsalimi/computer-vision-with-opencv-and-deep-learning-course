{
 "cells": [
  {
   "cell_type": "markdown",
   "id": "6d4d54a5-d4a7-410c-946f-287bee7d61ac",
   "metadata": {},
   "source": [
    "# Connecting to Camera"
   ]
  },
  {
   "cell_type": "code",
   "execution_count": 1,
   "id": "6cd1374f-99ab-4603-8eb4-0be5004d77fc",
   "metadata": {},
   "outputs": [],
   "source": [
    "import cv2"
   ]
  },
  {
   "cell_type": "markdown",
   "id": "03beeaa3-7ee4-4bf9-ac1a-bd31d86289c8",
   "metadata": {},
   "source": [
    "## Read Video Streams from the WebCam"
   ]
  },
  {
   "cell_type": "markdown",
   "id": "6ec26521-3de3-4f23-892b-863fff3b8f70",
   "metadata": {},
   "source": [
    "### Gray Scale"
   ]
  },
  {
   "cell_type": "code",
   "execution_count": 2,
   "id": "37977aaa-d54a-4c8c-95e2-fea41f9e58e9",
   "metadata": {},
   "outputs": [],
   "source": [
    "cap = cv2.VideoCapture(0)\n",
    "\n",
    "width = int(cap.get(cv2.CAP_PROP_FRAME_WIDTH))\n",
    "height = int(cap.get(cv2.CAP_PROP_FRAME_HEIGHT))\n",
    "\n",
    "\n",
    "while True:\n",
    "    ret, frame = cap.read()\n",
    "    \n",
    "    gray = cv2.cvtColor(frame, cv2.COLOR_BGR2GRAY)\n",
    "    \n",
    "    cv2.imshow('frame', gray)\n",
    "    \n",
    "    if cv2.waitKey(1) & 0xFF == ord('q'):\n",
    "        break\n",
    "        \n",
    "cap.release()        \n",
    "cv2.destroyAllWindows()"
   ]
  },
  {
   "cell_type": "markdown",
   "id": "dbe2891c-db8b-42fb-a945-1d6cb37ea22c",
   "metadata": {},
   "source": [
    "### RGB"
   ]
  },
  {
   "cell_type": "code",
   "execution_count": 3,
   "id": "48e23e67-6413-4ceb-b2a6-871903a6851f",
   "metadata": {},
   "outputs": [],
   "source": [
    "cap = cv2.VideoCapture(0)\n",
    "\n",
    "width = int(cap.get(cv2.CAP_PROP_FRAME_WIDTH))\n",
    "height = int(cap.get(cv2.CAP_PROP_FRAME_HEIGHT))\n",
    "\n",
    "\n",
    "while True:\n",
    "    ret, frame = cap.read()\n",
    "    \n",
    "    cv2.imshow('frame', frame)\n",
    "    \n",
    "    if cv2.waitKey(1) & 0xFF == ord('q'):\n",
    "        break\n",
    "        \n",
    "cap.release()        \n",
    "cv2.destroyAllWindows()"
   ]
  },
  {
   "cell_type": "markdown",
   "id": "8ab529d2-530f-4398-ad75-d5d9eee7b161",
   "metadata": {},
   "source": [
    "## Save the Video into a File"
   ]
  },
  {
   "cell_type": "code",
   "execution_count": 4,
   "id": "ec551c36-50d1-42f7-85d4-b81562beacb1",
   "metadata": {},
   "outputs": [],
   "source": [
    "cap = cv2.VideoCapture(0)\n",
    "\n",
    "width = int(cap.get(cv2.CAP_PROP_FRAME_WIDTH))\n",
    "height = int(cap.get(cv2.CAP_PROP_FRAME_HEIGHT))\n",
    "\n",
    "writer = cv2.VideoWriter('my_video.mp4', cv2.VideoWriter_fourcc(*'XVID'), 120, (width, height))\n",
    "\n",
    "while True:\n",
    "    ret, frame = cap.read()\n",
    "    \n",
    "    writer.write(frame)\n",
    "    \n",
    "    cv2.imshow('frame', frame)\n",
    "    \n",
    "    if cv2.waitKey(1) & 0xFF == ord('q'):\n",
    "        break\n",
    "        \n",
    "cap.release()\n",
    "writer.release()\n",
    "cv2.destroyAllWindows()"
   ]
  },
  {
   "cell_type": "code",
   "execution_count": 5,
   "id": "186371f9-ab32-4fd1-b17a-ce5cd0386d2f",
   "metadata": {},
   "outputs": [
    {
     "data": {
      "text/plain": [
       "'/home/amirhosein/Projects/Open Source/computer-vision-with-opencv-and-deep-learning-course/04 - Video Basics with Python and OpenCV'"
      ]
     },
     "execution_count": 5,
     "metadata": {},
     "output_type": "execute_result"
    }
   ],
   "source": [
    "pwd"
   ]
  }
 ],
 "metadata": {
  "kernelspec": {
   "display_name": "Python 3",
   "language": "python",
   "name": "python3"
  },
  "language_info": {
   "codemirror_mode": {
    "name": "ipython",
    "version": 3
   },
   "file_extension": ".py",
   "mimetype": "text/x-python",
   "name": "python",
   "nbconvert_exporter": "python",
   "pygments_lexer": "ipython3",
   "version": "3.6.15"
  }
 },
 "nbformat": 4,
 "nbformat_minor": 5
}
