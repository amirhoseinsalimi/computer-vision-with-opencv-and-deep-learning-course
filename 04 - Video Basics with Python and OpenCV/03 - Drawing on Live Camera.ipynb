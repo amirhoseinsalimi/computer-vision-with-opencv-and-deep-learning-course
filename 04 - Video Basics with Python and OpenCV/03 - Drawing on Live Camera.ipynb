{
 "cells": [
  {
   "cell_type": "markdown",
   "id": "79ec7ce2-6ec3-4e80-a5ce-f0f311433fd2",
   "metadata": {},
   "source": [
    "# Drawing on Live Camera"
   ]
  },
  {
   "cell_type": "code",
   "execution_count": 1,
   "id": "53d8b9ff-8740-4518-a21f-adf0a6d76915",
   "metadata": {},
   "outputs": [],
   "source": [
    "import cv2"
   ]
  },
  {
   "cell_type": "markdown",
   "id": "41523483-3551-4a7d-857d-cf72df0a83a1",
   "metadata": {},
   "source": [
    "## Draw Shapes on Videos"
   ]
  },
  {
   "cell_type": "markdown",
   "id": "989771ac-333b-4ec7-a2ec-6b40ccfea39c",
   "metadata": {},
   "source": [
    "### Static Position"
   ]
  },
  {
   "cell_type": "code",
   "execution_count": 2,
   "id": "6d5bf5d2-4e1f-492d-828c-c699b9482b5a",
   "metadata": {},
   "outputs": [],
   "source": [
    "cap = cv2.VideoCapture(0)\n",
    "\n",
    "width = int(cap.get(cv2.CAP_PROP_FRAME_WIDTH))\n",
    "height = int(cap.get(cv2.CAP_PROP_FRAME_HEIGHT))\n",
    "\n",
    "x = width // 2\n",
    "y = height // 2\n",
    "\n",
    "w = width // 4\n",
    "h = height // 4\n",
    "\n",
    "while True:\n",
    "    ret, frame = cap.read()\n",
    "    \n",
    "    cv2.rectangle(frame, (x, y), (x + w, y + h), (0, 0, 255), 4)\n",
    "    \n",
    "    cv2.imshow('frame', frame)\n",
    "    \n",
    "    if cv2.waitKey(10) & 0xFF == ord('q'):\n",
    "        break\n",
    "        \n",
    "cap.release()\n",
    "cv2.destroyAllWindows()"
   ]
  },
  {
   "cell_type": "markdown",
   "id": "a6a28242-320d-4438-9b89-c51f605e9db9",
   "metadata": {},
   "source": [
    "### Interactive Position"
   ]
  },
  {
   "cell_type": "code",
   "execution_count": 3,
   "id": "0e73b2bb-7a28-491e-90c3-d18c5adafe2d",
   "metadata": {},
   "outputs": [],
   "source": [
    "def draw_rectangle(event, x, y, flags, param):\n",
    "    global pt1, pt2, top_left_clicked, bottom_right_clicked\n",
    "    \n",
    "    if event == cv2.EVENT_LBUTTONDOWN:\n",
    "        if top_left_clicked and bottom_right_clicked:\n",
    "            pt1 = (0, 0)\n",
    "            pt2 = (0, 0)\n",
    "            top_left_clicked = False\n",
    "            bottom_right_clicked = False\n",
    "    \n",
    "        if not top_left_clicked:\n",
    "            pt1 = (x, y)\n",
    "            top_left_clicked = True\n",
    "        elif not bottom_right_clicked:\n",
    "            pt2 = (x, y)\n",
    "            bottom_right_clicked = True\n",
    "            \n",
    "\n",
    "pt1 = (0, 0)\n",
    "pt2 = (0, 0)\n",
    "top_left_clicked = False\n",
    "bottom_right_clicked = False\n",
    "\n",
    "cap = cv2.VideoCapture(0)\n",
    "cv2.namedWindow('Test')\n",
    "cv2.setMouseCallback('Test', draw_rectangle)\n",
    "\n",
    "while True:\n",
    "    ret, frame = cap.read()\n",
    "    \n",
    "    if top_left_clicked:\n",
    "        cv2.circle(frame, center=pt1, radius=5, color=(0, 0, 255), thickness=-1)\n",
    "        \n",
    "    if top_left_clicked and bottom_right_clicked:\n",
    "        cv2.rectangle(frame, pt1, pt2, (0, 0, 255), 3)\n",
    "    \n",
    "    cv2.imshow('Test', frame)\n",
    "    \n",
    "    if cv2.waitKey(10) & 0xFF == ord('q'):\n",
    "        break\n",
    "        \n",
    "cap.release()\n",
    "cv2.destroyAllWindows()"
   ]
  }
 ],
 "metadata": {
  "jupytext": {
   "formats": "ipynb,py:percent"
  },
  "kernelspec": {
   "display_name": "Python 3",
   "language": "python",
   "name": "python3"
  },
  "language_info": {
   "codemirror_mode": {
    "name": "ipython",
    "version": 3
   },
   "file_extension": ".py",
   "mimetype": "text/x-python",
   "name": "python",
   "nbconvert_exporter": "python",
   "pygments_lexer": "ipython3",
   "version": "3.6.15"
  }
 },
 "nbformat": 4,
 "nbformat_minor": 5
}
