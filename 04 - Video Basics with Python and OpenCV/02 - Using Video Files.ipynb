{
 "cells": [
  {
   "cell_type": "markdown",
   "id": "dd989f0b-8c5c-4c10-958f-783381ff2217",
   "metadata": {},
   "source": [
    "# Using Video Files"
   ]
  },
  {
   "cell_type": "code",
   "execution_count": 1,
   "id": "42ec9e05-9066-48f1-9912-7eb1c3d95574",
   "metadata": {},
   "outputs": [],
   "source": [
    "import cv2"
   ]
  },
  {
   "cell_type": "markdown",
   "id": "19bc2417-4b0c-4d76-a9db-17e2930596da",
   "metadata": {},
   "source": [
    "## Read a Video File"
   ]
  },
  {
   "cell_type": "code",
   "execution_count": 2,
   "id": "aa1aac05-e492-42c2-bb6c-1eb66a1158d5",
   "metadata": {},
   "outputs": [],
   "source": [
    "cap = cv2.VideoCapture('../DATA/finger_move.mp4')\n",
    "\n",
    "if not cap.isOpened():\n",
    "    print('Error: file not found or a wrong codec used')\n",
    "    \n",
    "while cap.isOpened():\n",
    "    ret, frame = cap.read()\n",
    "    \n",
    "    if ret == True:\n",
    "        cv2.imshow('frame', frame)\n",
    "        \n",
    "        if cv2.waitKey(10) & 0xFF == ord('q'):\n",
    "            break\n",
    "            \n",
    "    else:\n",
    "        break\n",
    "        \n",
    "cap.release()\n",
    "cv2.destroyAllWindows()"
   ]
  },
  {
   "cell_type": "markdown",
   "id": "2a50cb2d-64e9-49c5-a040-b89fd15238e0",
   "metadata": {},
   "source": [
    "## Read a Video File (For Us to Watch)"
   ]
  },
  {
   "cell_type": "code",
   "execution_count": 3,
   "id": "49943595-ea6e-4f9a-9a8f-4959fa323ad9",
   "metadata": {},
   "outputs": [],
   "source": [
    "import time\n",
    "\n",
    "cap = cv2.VideoCapture('../DATA/finger_move.mp4')\n",
    "\n",
    "if not cap.isOpened():\n",
    "    print('Error: file not found or a wrong codec used')\n",
    "    \n",
    "while cap.isOpened():\n",
    "    ret, frame = cap.read()\n",
    "    \n",
    "    if ret == True:\n",
    "        time.sleep(1/60)\n",
    "        cv2.imshow('frame', frame)\n",
    "        \n",
    "        if cv2.waitKey(10) & 0xFF == ord('q'):\n",
    "            break\n",
    "            \n",
    "    else:\n",
    "        break\n",
    "        \n",
    "cap.release()\n",
    "cv2.destroyAllWindows()"
   ]
  }
 ],
 "metadata": {
  "kernelspec": {
   "display_name": "Python 3",
   "language": "python",
   "name": "python3"
  },
  "language_info": {
   "codemirror_mode": {
    "name": "ipython",
    "version": 3
   },
   "file_extension": ".py",
   "mimetype": "text/x-python",
   "name": "python",
   "nbconvert_exporter": "python",
   "pygments_lexer": "ipython3",
   "version": "3.6.15"
  }
 },
 "nbformat": 4,
 "nbformat_minor": 5
}
