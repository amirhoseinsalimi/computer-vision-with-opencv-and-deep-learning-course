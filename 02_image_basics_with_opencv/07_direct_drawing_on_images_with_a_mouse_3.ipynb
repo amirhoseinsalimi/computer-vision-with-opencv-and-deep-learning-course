{
 "cells": [
  {
   "cell_type": "markdown",
   "id": "e1bfac67-f320-47ea-b4bf-a18b9342a259",
   "metadata": {},
   "source": [
    "# Direct Drawing on Images with a Mouse"
   ]
  },
  {
   "cell_type": "markdown",
   "id": "09edd094-9952-4766-98ec-dd624adb0894",
   "metadata": {},
   "source": [
    "##  Part 3 - Draw Rectangles Using Mouse Dragging"
   ]
  },
  {
   "cell_type": "code",
   "execution_count": 1,
   "id": "355b9348-2b7e-4a1c-b6aa-7f5d0ae6179f",
   "metadata": {},
   "outputs": [],
   "source": [
    "import cv2\n",
    "import numpy as np\n",
    "\n",
    "WINDOW_NAME = 'my_drawing'\n",
    "\n",
    "drawing = False\n",
    "ix, iy = -1, -1\n",
    "\n",
    "def draw_circle(event, x, y, flags, param):\n",
    "    global ix, iy, drawing\n",
    "    \n",
    "    if event == cv2.EVENT_LBUTTONDOWN:\n",
    "        drawing = True\n",
    "        ix, iy = x, y\n",
    "    elif event == cv2.EVENT_MOUSEMOVE:\n",
    "        if drawing == True:\n",
    "            cv2.rectangle(img, (ix, iy), (x, y), (0, 255, 0), -1)\n",
    "    elif event == cv2.EVENT_LBUTTONUP:\n",
    "        drawing = False\n",
    "        cv2.rectangle(img, (ix, iy), (x, y), (0, 255, 0), -1)\n",
    "        \n",
    "\n",
    "cv2.namedWindow(winname=WINDOW_NAME)\n",
    "\n",
    "cv2.setMouseCallback(WINDOW_NAME, draw_circle)\n",
    "\n",
    "img = np.zeros(shape=(512, 512, 3), dtype=np.uint8)\n",
    "\n",
    "while True:\n",
    "    cv2.imshow(WINDOW_NAME, img)\n",
    "    \n",
    "    if cv2.waitKey(20) & 0xFF == 27:\n",
    "        break\n",
    "        \n",
    "cv2.destroyAllWindows()"
   ]
  }
 ],
 "metadata": {
  "kernelspec": {
   "display_name": "Python 3",
   "language": "python",
   "name": "python3"
  },
  "language_info": {
   "codemirror_mode": {
    "name": "ipython",
    "version": 3
   },
   "file_extension": ".py",
   "mimetype": "text/x-python",
   "name": "python",
   "nbconvert_exporter": "python",
   "pygments_lexer": "ipython3",
   "version": "3.6.15"
  }
 },
 "nbformat": 4,
 "nbformat_minor": 5
}
